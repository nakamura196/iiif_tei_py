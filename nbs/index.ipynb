{
 "cells": [
  {
   "cell_type": "markdown",
   "metadata": {},
   "source": [
    "# iiif_tei_py\n",
    "\n",
    "> A Python library for working with IIIF and TEI XML"
   ]
  },
  {
   "cell_type": "markdown",
   "metadata": {},
   "source": [
    "Creating TEI/XML with results from OCR using Google Cloud Vision API\n",
    "\n",
    "## Install\n",
    "\n",
    "```sh\n",
    "pip install https://github.com/nakamura196/iiif_tei_py\n",
    "```\n",
    "\n",
    "## Basic usage\n",
    "\n",
    "### Prepare `.env` file\n",
    "\n",
    "```txt:.env\n",
    "GOOGLE_APPLICATION_CREDENTIALS=your-google-credentials.json\n",
    "```"
   ]
  },
  {
   "cell_type": "markdown",
   "metadata": {},
   "source": [
    "### Prepare Google Cloud Vision API credentials"
   ]
  },
  {
   "cell_type": "code",
   "execution_count": null,
   "metadata": {},
   "outputs": [],
   "source": [
    "%reload_ext autoreload\n",
    "%autoreload 2\n",
    "from iiif_tei_py.core import CoreClient\n",
    "cred_path = CoreClient.load_env()"
   ]
  },
  {
   "cell_type": "markdown",
   "metadata": {},
   "source": [
    "### Main"
   ]
  },
  {
   "cell_type": "code",
   "execution_count": null,
   "metadata": {},
   "outputs": [
    {
     "name": "stderr",
     "output_type": "stream",
     "text": [
      "I0000 00:00:1723108517.494375 11044252 check_gcp_environment_no_op.cc:29] ALTS: Platforms other than Linux and Windows are not supported\n"
     ]
    }
   ],
   "source": [
    "url = \"https://iiif.io/api/presentation/2.1/example/fixtures/resources/page1-full.png\"\n",
    "output_tei_xml_file_path = \"./tmp/01/output.xml\"\n",
    "CoreClient.create_tei_xml_with_gocr(url, output_tei_xml_file_path, cred_path, title=\"Sample\")"
   ]
  },
  {
   "cell_type": "markdown",
   "metadata": {},
   "source": [
    "## Advanced usage\n",
    "\n",
    "### OCR with Google Cloud Vision API"
   ]
  },
  {
   "cell_type": "markdown",
   "metadata": {},
   "source": [
    "#### URL"
   ]
  },
  {
   "cell_type": "code",
   "execution_count": null,
   "metadata": {},
   "outputs": [
    {
     "name": "stderr",
     "output_type": "stream",
     "text": [
      "I0000 00:00:1723108518.636803 11044252 check_gcp_environment_no_op.cc:29] ALTS: Platforms other than Linux and Windows are not supported\n"
     ]
    }
   ],
   "source": [
    "from iiif_tei_py.core import IIIFClient\n",
    "iiif = IIIFClient(cred_path)\n",
    "iiif_manifest_file_path = \"./tmp/02/output.json\"\n",
    "iiif.create_manifest3_by_gocr(url, iiif_manifest_file_path, tmp_dir=\"./tmp\", title=\"Sample\")"
   ]
  },
  {
   "cell_type": "markdown",
   "metadata": {},
   "source": [
    "#### Local file"
   ]
  },
  {
   "cell_type": "code",
   "execution_count": null,
   "metadata": {},
   "outputs": [
    {
     "name": "stderr",
     "output_type": "stream",
     "text": [
      "I0000 00:00:1723108519.684659 11044252 check_gcp_environment_no_op.cc:29] ALTS: Platforms other than Linux and Windows are not supported\n"
     ]
    }
   ],
   "source": [
    "iiif_manifest_file_path_local = \"./tmp/03/output.json\"\n",
    "input_image_file_path = \"./tmp/02/images/demo.jpg\"\n",
    "iiif.create_manifest3_local_by_gocr(input_image_file_path, iiif_manifest_file_path_local, title=\"Sample\")"
   ]
  },
  {
   "cell_type": "markdown",
   "metadata": {},
   "source": [
    "### Convert IIIF manifest to TEI/XML"
   ]
  },
  {
   "cell_type": "code",
   "execution_count": null,
   "metadata": {},
   "outputs": [],
   "source": [
    "from iiif_tei_py.core import TEIClient\n",
    "teiClient = TEIClient()\n",
    "output_tei_xml_file_path = \"./tmp/04/output.xml\"\n",
    "teiClient.convert_manifest3_annotations_to_zones(iiif_manifest_file_path, output_tei_xml_file_path)"
   ]
  }
 ],
 "metadata": {
  "kernelspec": {
   "display_name": "python3",
   "language": "python",
   "name": "python3"
  }
 },
 "nbformat": 4,
 "nbformat_minor": 4
}
