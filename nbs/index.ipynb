{
 "cells": [
  {
   "cell_type": "markdown",
   "metadata": {},
   "source": [
    "# iiif_tei_py\n",
    "\n",
    "> "
   ]
  },
  {
   "cell_type": "markdown",
   "metadata": {},
   "source": [
    "Google Cloud Vision APIを使って、OCRした結果を有するTEI/XMLを作成する"
   ]
  },
  {
   "cell_type": "markdown",
   "metadata": {},
   "source": [
    "## Install"
   ]
  },
  {
   "cell_type": "markdown",
   "metadata": {},
   "source": [
    "```sh\n",
    "pip install iiif_tei_py\n",
    "```"
   ]
  },
  {
   "cell_type": "markdown",
   "metadata": {},
   "source": [
    "## How to use"
   ]
  },
  {
   "cell_type": "code",
   "execution_count": null,
   "metadata": {},
   "outputs": [],
   "source": [
    "from iiif_tei_py.iiif import IIIFClient\n",
    "from iiif_tei_py.tei import TEIClient\n",
    "from dotenv import load_dotenv\n",
    "import os"
   ]
  },
  {
   "cell_type": "markdown",
   "metadata": {},
   "source": [
    "### Prepare `.env` file"
   ]
  },
  {
   "cell_type": "markdown",
   "metadata": {},
   "source": [
    "```txt:.env\n",
    "GOOGLE_APPLICATION_CREDENTIALS=your_google_cloud_vision_api_key.json\n",
    "```"
   ]
  },
  {
   "cell_type": "code",
   "execution_count": null,
   "metadata": {},
   "outputs": [],
   "source": [
    "load_dotenv()  # take environment variables from .env.\n",
    "cred_path = os.getenv(\"GOOGLE_APPLICATION_CREDENTIALS\")"
   ]
  },
  {
   "cell_type": "markdown",
   "metadata": {},
   "source": [
    "### Google Cloud Vision APIを使ってOCRする"
   ]
  },
  {
   "cell_type": "code",
   "execution_count": null,
   "metadata": {},
   "outputs": [],
   "source": [
    "IIIFClient = IIIFClient()\n",
    "\n",
    "url = \"https://archives.bge-geneve.ch/iiif/mnt/md1/cache/bge_diffusion/rousseau_jeanjacquesead/ms_fr_225/ms_fr_00225_f001v_002/FOND.TIF/0,0,3436,4796/full/0/default.jpg\"\n",
    "\n",
    "iiif_manifest_file_path = \"./tmp/output.json\"\n",
    "\n",
    "IIIFClient.create_manifest3_by_gocr(url, cred_path, iiif_manifest_file_path, tmp_dir=\"./tmp\")"
   ]
  },
  {
   "cell_type": "markdown",
   "metadata": {},
   "source": [
    "### IIIFマニフェストファイルをTEI/XMlに変換する"
   ]
  },
  {
   "cell_type": "code",
   "execution_count": null,
   "metadata": {},
   "outputs": [],
   "source": [
    "teiClient = TEIClient()\n",
    "output_tei_xml_file_path = \"./tmp/output.xml\"\n",
    "teiClient.convert_manifest3_annotations_to_zones(iiif_manifest_file_path, output_tei_xml_file_path)"
   ]
  }
 ],
 "metadata": {
  "kernelspec": {
   "display_name": "python3",
   "language": "python",
   "name": "python3"
  }
 },
 "nbformat": 4,
 "nbformat_minor": 4
}
